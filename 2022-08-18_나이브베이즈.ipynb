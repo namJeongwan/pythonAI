{
  "nbformat": 4,
  "nbformat_minor": 0,
  "metadata": {
    "colab": {
      "name": "Untitled0.ipynb",
      "provenance": [],
      "collapsed_sections": [],
      "authorship_tag": "ABX9TyNX8QVnbrus65OiHzIrGmwV",
      "include_colab_link": true
    },
    "kernelspec": {
      "name": "python3",
      "display_name": "Python 3"
    },
    "language_info": {
      "name": "python"
    }
  },
  "cells": [
    {
      "cell_type": "markdown",
      "metadata": {
        "id": "view-in-github",
        "colab_type": "text"
      },
      "source": [
        "<a href=\"https://colab.research.google.com/github/namJeongwan/pythonAI/blob/master/2022-08-18_%EB%82%98%EC%9D%B4%EB%B8%8C%EB%B2%A0%EC%9D%B4%EC%A6%88.ipynb\" target=\"_parent\"><img src=\"https://colab.research.google.com/assets/colab-badge.svg\" alt=\"Open In Colab\"/></a>"
      ]
    },
    {
      "cell_type": "code",
      "execution_count": 1,
      "metadata": {
        "colab": {
          "base_uri": "https://localhost:8080/"
        },
        "id": "myD9niMREh6_",
        "outputId": "0087ad63-19a6-4c55-cfa9-f915008bf936"
      },
      "outputs": [
        {
          "output_type": "stream",
          "name": "stdout",
          "text": [
            "Looking in indexes: https://pypi.org/simple, https://us-python.pkg.dev/colab-wheels/public/simple/\n",
            "Requirement already satisfied: mglearn in /usr/local/lib/python3.7/dist-packages (0.1.9)\n",
            "Requirement already satisfied: matplotlib in /usr/local/lib/python3.7/dist-packages (from mglearn) (3.2.2)\n",
            "Requirement already satisfied: cycler in /usr/local/lib/python3.7/dist-packages (from mglearn) (0.11.0)\n",
            "Requirement already satisfied: scikit-learn in /usr/local/lib/python3.7/dist-packages (from mglearn) (1.0.2)\n",
            "Requirement already satisfied: joblib in /usr/local/lib/python3.7/dist-packages (from mglearn) (1.1.0)\n",
            "Requirement already satisfied: imageio in /usr/local/lib/python3.7/dist-packages (from mglearn) (2.9.0)\n",
            "Requirement already satisfied: pandas in /usr/local/lib/python3.7/dist-packages (from mglearn) (1.3.5)\n",
            "Requirement already satisfied: pillow in /usr/local/lib/python3.7/dist-packages (from mglearn) (7.1.2)\n",
            "Requirement already satisfied: numpy in /usr/local/lib/python3.7/dist-packages (from mglearn) (1.21.6)\n",
            "Requirement already satisfied: pyparsing!=2.0.4,!=2.1.2,!=2.1.6,>=2.0.1 in /usr/local/lib/python3.7/dist-packages (from matplotlib->mglearn) (3.0.9)\n",
            "Requirement already satisfied: kiwisolver>=1.0.1 in /usr/local/lib/python3.7/dist-packages (from matplotlib->mglearn) (1.4.4)\n",
            "Requirement already satisfied: python-dateutil>=2.1 in /usr/local/lib/python3.7/dist-packages (from matplotlib->mglearn) (2.8.2)\n",
            "Requirement already satisfied: typing-extensions in /usr/local/lib/python3.7/dist-packages (from kiwisolver>=1.0.1->matplotlib->mglearn) (4.1.1)\n",
            "Requirement already satisfied: six>=1.5 in /usr/local/lib/python3.7/dist-packages (from python-dateutil>=2.1->matplotlib->mglearn) (1.15.0)\n",
            "Requirement already satisfied: pytz>=2017.3 in /usr/local/lib/python3.7/dist-packages (from pandas->mglearn) (2022.2)\n",
            "Requirement already satisfied: scipy>=1.1.0 in /usr/local/lib/python3.7/dist-packages (from scikit-learn->mglearn) (1.7.3)\n",
            "Requirement already satisfied: threadpoolctl>=2.0.0 in /usr/local/lib/python3.7/dist-packages (from scikit-learn->mglearn) (3.1.0)\n"
          ]
        }
      ],
      "source": [
        "pip install mglearn"
      ]
    },
    {
      "cell_type": "code",
      "source": [
        "!sudo apt-get install -y fonts-nanum\n",
        "!sudo fc-cache -fv\n",
        "!rm ~/.cache/matplotlib -rf"
      ],
      "metadata": {
        "colab": {
          "base_uri": "https://localhost:8080/"
        },
        "id": "f_FSuONEl8QC",
        "outputId": "ed5a636b-d5c7-4126-e025-678dbc2413b5"
      },
      "execution_count": 2,
      "outputs": [
        {
          "output_type": "stream",
          "name": "stdout",
          "text": [
            "Reading package lists... Done\n",
            "Building dependency tree       \n",
            "Reading state information... Done\n",
            "fonts-nanum is already the newest version (20170925-1).\n",
            "The following package was automatically installed and is no longer required:\n",
            "  libnvidia-common-460\n",
            "Use 'sudo apt autoremove' to remove it.\n",
            "0 upgraded, 0 newly installed, 0 to remove and 20 not upgraded.\n",
            "/usr/share/fonts: caching, new cache contents: 0 fonts, 1 dirs\n",
            "/usr/share/fonts/truetype: caching, new cache contents: 0 fonts, 3 dirs\n",
            "/usr/share/fonts/truetype/humor-sans: caching, new cache contents: 1 fonts, 0 dirs\n",
            "/usr/share/fonts/truetype/liberation: caching, new cache contents: 16 fonts, 0 dirs\n",
            "/usr/share/fonts/truetype/nanum: caching, new cache contents: 10 fonts, 0 dirs\n",
            "/usr/local/share/fonts: caching, new cache contents: 0 fonts, 0 dirs\n",
            "/root/.local/share/fonts: skipping, no such directory\n",
            "/root/.fonts: skipping, no such directory\n",
            "/var/cache/fontconfig: cleaning cache directory\n",
            "/root/.cache/fontconfig: not cleaning non-existent cache directory\n",
            "/root/.fontconfig: not cleaning non-existent cache directory\n",
            "fc-cache: succeeded\n"
          ]
        }
      ]
    },
    {
      "cell_type": "code",
      "source": [
        "import pandas as pd\n",
        "import numpy as np\n",
        "import matplotlib.pyplot as plt\n",
        "import mglearn\n",
        "\n",
        "plt.rc('font', family='NanumBarunGothic') "
      ],
      "metadata": {
        "id": "upDiQtCBI0tI"
      },
      "execution_count": 3,
      "outputs": []
    },
    {
      "cell_type": "code",
      "source": [
        "# 데이터 생성\n",
        "X, y = mglearn.datasets.make_forge()\n",
        "# 산점도 생성\n",
        "mglearn.discrete_scatter(X[:, 0], X[:, 1], y)\n",
        "plt.legend([\"클래스 0\", \"클래스 1\"], loc=4)\n",
        "plt.xlabel(\"첫 번째 특성\")\n",
        "plt.ylabel(\"두 번째 특성\")\n",
        "print(\"X.shape: \", X.shape)"
      ],
      "metadata": {
        "colab": {
          "base_uri": "https://localhost:8080/",
          "height": 427
        },
        "id": "j_00OjIeI_wp",
        "outputId": "f14553a8-4bd2-4fc0-9046-30c314af5996"
      },
      "execution_count": 4,
      "outputs": [
        {
          "output_type": "stream",
          "name": "stdout",
          "text": [
            "X.shape:  (26, 2)\n"
          ]
        },
        {
          "output_type": "stream",
          "name": "stderr",
          "text": [
            "/usr/local/lib/python3.7/dist-packages/sklearn/utils/deprecation.py:87: FutureWarning: Function make_blobs is deprecated; Please import make_blobs directly from scikit-learn\n",
            "  warnings.warn(msg, category=FutureWarning)\n",
            "/usr/local/lib/python3.7/dist-packages/matplotlib/backends/backend_agg.py:214: RuntimeWarning: Glyph 8722 missing from current font.\n",
            "  font.set_text(s, 0.0, flags=flags)\n",
            "/usr/local/lib/python3.7/dist-packages/matplotlib/backends/backend_agg.py:183: RuntimeWarning: Glyph 8722 missing from current font.\n",
            "  font.set_text(s, 0, flags=flags)\n"
          ]
        },
        {
          "output_type": "display_data",
          "data": {
            "text/plain": [
              "<Figure size 432x288 with 1 Axes>"
            ],
            "image/png": "[encoded data removed]"
          },
          "metadata": {
            "needs_background": "light"
          }
        }
      ]
    },
    {
      "cell_type": "code",
      "source": [
        "X, y = mglearn.datasets.make_wave(n_samples=40)\n",
        "plt.plot(X, y, 'o')\n",
        "plt.ylim(-3, 3)\n",
        "plt.xlabel(\"특성\")\n",
        "plt.ylabel(\"타겟\")"
      ],
      "metadata": {
        "colab": {
          "base_uri": "https://localhost:8080/",
          "height": 394
        },
        "id": "U5rzIwF7JnDJ",
        "outputId": "70c477c2-6bd6-4870-843b-d687c4e569a4"
      },
      "execution_count": 5,
      "outputs": [
        {
          "output_type": "execute_result",
          "data": {
            "text/plain": [
              "Text(0, 0.5, '타겟')"
            ]
          },
          "metadata": {},
          "execution_count": 5
        },
        {
          "output_type": "stream",
          "name": "stderr",
          "text": [
            "/usr/local/lib/python3.7/dist-packages/matplotlib/backends/backend_agg.py:214: RuntimeWarning: Glyph 8722 missing from current font.\n",
            "  font.set_text(s, 0.0, flags=flags)\n",
            "/usr/local/lib/python3.7/dist-packages/matplotlib/backends/backend_agg.py:183: RuntimeWarning: Glyph 8722 missing from current font.\n",
            "  font.set_text(s, 0, flags=flags)\n"
          ]
        },
        {
          "output_type": "display_data",
          "data": {
            "text/plain": [
              "<Figure size 432x288 with 1 Axes>"
            ],
            "image/png": "[encoded data removed]"
          },
          "metadata": {
            "needs_background": "light"
          }
        }
      ]
    },
    {
      "cell_type": "code",
      "source": [
        "# 암 데이터셋\n",
        "from sklearn.datasets import load_breast_cancer\n",
        "cancer = load_breast_cancer()\n",
        "print(\"cancer.keys():\")\n",
        "print(cancer.keys())"
      ],
      "metadata": {
        "colab": {
          "base_uri": "https://localhost:8080/"
        },
        "id": "kJ_WDoNFKQgs",
        "outputId": "f77ef033-f700-474f-b0d9-1f95b004ee33"
      },
      "execution_count": 6,
      "outputs": [
        {
          "output_type": "stream",
          "name": "stdout",
          "text": [
            "cancer.keys():\n",
            "dict_keys(['data', 'target', 'frame', 'target_names', 'DESCR', 'feature_names', 'filename', 'data_module'])\n"
          ]
        }
      ]
    },
    {
      "cell_type": "code",
      "source": [
        "print(f\"유방암 데이터의 형태: {cancer.data.shape}\")"
      ],
      "metadata": {
        "colab": {
          "base_uri": "https://localhost:8080/"
        },
        "id": "3UYnWZw2KiGV",
        "outputId": "6ca7cc6f-c3dd-4952-97e7-beabba2fdfa1"
      },
      "execution_count": 7,
      "outputs": [
        {
          "output_type": "stream",
          "name": "stdout",
          "text": [
            "유방암 데이터의 형태: (569, 30)\n"
          ]
        }
      ]
    },
    {
      "cell_type": "code",
      "source": [
        "print(\"클래스 별 샘플 개수: \")\n",
        "print({n: v for n, v in zip(cancer.target_names, np.bincount(cancer.target))})"
      ],
      "metadata": {
        "colab": {
          "base_uri": "https://localhost:8080/"
        },
        "id": "DBiktnGzKw4L",
        "outputId": "473a6121-9b6c-4a2c-ffad-e3abe8e1522d"
      },
      "execution_count": 8,
      "outputs": [
        {
          "output_type": "stream",
          "name": "stdout",
          "text": [
            "클래스 별 샘플 개수: \n",
            "{'malignant': 212, 'benign': 357}\n"
          ]
        }
      ]
    },
    {
      "cell_type": "code",
      "source": [
        "print(\"특성 이름: \")\n",
        "print(cancer.feature_names)"
      ],
      "metadata": {
        "colab": {
          "base_uri": "https://localhost:8080/"
        },
        "id": "fIAFSYIbLxeE",
        "outputId": "2ed57c45-c135-4e7d-d122-59fd53c2abf6"
      },
      "execution_count": 9,
      "outputs": [
        {
          "output_type": "stream",
          "name": "stdout",
          "text": [
            "특성 이름: \n",
            "['mean radius' 'mean texture' 'mean perimeter' 'mean area'\n",
            " 'mean smoothness' 'mean compactness' 'mean concavity'\n",
            " 'mean concave points' 'mean symmetry' 'mean fractal dimension'\n",
            " 'radius error' 'texture error' 'perimeter error' 'area error'\n",
            " 'smoothness error' 'compactness error' 'concavity error'\n",
            " 'concave points error' 'symmetry error' 'fractal dimension error'\n",
            " 'worst radius' 'worst texture' 'worst perimeter' 'worst area'\n",
            " 'worst smoothness' 'worst compactness' 'worst concavity'\n",
            " 'worst concave points' 'worst symmetry' 'worst fractal dimension']\n"
          ]
        }
      ]
    },
    {
      "cell_type": "code",
      "source": [
        "# 보스턴 주택 가격 데이터셋 \n",
        "from sklearn.datasets import load_boston\n",
        "boston = load_boston()\n",
        "print(\"데이터의 형태: \", boston.data.shape)"
      ],
      "metadata": {
        "colab": {
          "base_uri": "https://localhost:8080/"
        },
        "id": "DvRL23cNMTeP",
        "outputId": "0c9c6cff-848a-49a8-daa0-f1685198447b"
      },
      "execution_count": 10,
      "outputs": [
        {
          "output_type": "stream",
          "name": "stdout",
          "text": [
            "데이터의 형태:  (506, 13)\n"
          ]
        },
        {
          "output_type": "stream",
          "name": "stderr",
          "text": [
            "/usr/local/lib/python3.7/dist-packages/sklearn/utils/deprecation.py:87: FutureWarning: Function load_boston is deprecated; `load_boston` is deprecated in 1.0 and will be removed in 1.2.\n",
            "\n",
            "    The Boston housing prices dataset has an ethical problem. You can refer to\n",
            "    the documentation of this function for further details.\n",
            "\n",
            "    The scikit-learn maintainers therefore strongly discourage the use of this\n",
            "    dataset unless the purpose of the code is to study and educate about\n",
            "    ethical issues in data science and machine learning.\n",
            "\n",
            "    In this special case, you can fetch the dataset from the original\n",
            "    source::\n",
            "\n",
            "        import pandas as pd\n",
            "        import numpy as np\n",
            "\n",
            "\n",
            "        data_url = \"http://lib.stat.cmu.edu/datasets/boston\"\n",
            "        raw_df = pd.read_csv(data_url, sep=\"\\s+\", skiprows=22, header=None)\n",
            "        data = np.hstack([raw_df.values[::2, :], raw_df.values[1::2, :2]])\n",
            "        target = raw_df.values[1::2, 2]\n",
            "\n",
            "    Alternative datasets include the California housing dataset (i.e.\n",
            "    :func:`~sklearn.datasets.fetch_california_housing`) and the Ames housing\n",
            "    dataset. You can load the datasets as follows::\n",
            "\n",
            "        from sklearn.datasets import fetch_california_housing\n",
            "        housing = fetch_california_housing()\n",
            "\n",
            "    for the California housing dataset and::\n",
            "\n",
            "        from sklearn.datasets import fetch_openml\n",
            "        housing = fetch_openml(name=\"house_prices\", as_frame=True)\n",
            "\n",
            "    for the Ames housing dataset.\n",
            "    \n",
            "  warnings.warn(msg, category=FutureWarning)\n"
          ]
        }
      ]
    },
    {
      "cell_type": "code",
      "source": [
        "# Feature를 확장한 데이터 가져오기(특성공학)\n",
        "X, y = mglearn.datasets.load_extended_boston()\n",
        "print(\"X.shape\", X.shape)"
      ],
      "metadata": {
        "colab": {
          "base_uri": "https://localhost:8080/"
        },
        "id": "g_pW286qMjjU",
        "outputId": "2b1b4627-0170-4967-bc69-6dfb0514026f"
      },
      "execution_count": 11,
      "outputs": [
        {
          "output_type": "stream",
          "name": "stdout",
          "text": [
            "X.shape (506, 104)\n"
          ]
        }
      ]
    },
    {
      "cell_type": "markdown",
      "source": [
        "# k-최근접 이웃 분류 (k-Nearest Neighbors)"
      ],
      "metadata": {
        "id": "-HId4n53NFE2"
      }
    },
    {
      "cell_type": "code",
      "source": [
        "mglearn.plots.plot_knn_classification(n_neighbors=10)"
      ],
      "metadata": {
        "colab": {
          "base_uri": "https://localhost:8080/",
          "height": 395
        },
        "id": "synMqkOnMdG3",
        "outputId": "0d38fa6e-0a37-422c-b32b-481bbadb03b0"
      },
      "execution_count": 12,
      "outputs": [
        {
          "output_type": "stream",
          "name": "stderr",
          "text": [
            "/usr/local/lib/python3.7/dist-packages/sklearn/utils/deprecation.py:87: FutureWarning: Function make_blobs is deprecated; Please import make_blobs directly from scikit-learn\n",
            "  warnings.warn(msg, category=FutureWarning)\n",
            "/usr/local/lib/python3.7/dist-packages/matplotlib/backends/backend_agg.py:214: RuntimeWarning: Glyph 8722 missing from current font.\n",
            "  font.set_text(s, 0.0, flags=flags)\n",
            "/usr/local/lib/python3.7/dist-packages/matplotlib/backends/backend_agg.py:183: RuntimeWarning: Glyph 8722 missing from current font.\n",
            "  font.set_text(s, 0, flags=flags)\n"
          ]
        },
        {
          "output_type": "display_data",
          "data": {
            "text/plain": [
              "<Figure size 432x288 with 1 Axes>"
            ],
            "image/png": "[encoded data removed]"
          },
          "metadata": {
            "needs_background": "light"
          }
        }
      ]
    },
    {
      "cell_type": "code",
      "source": [
        "from sklearn.model_selection import train_test_split\n",
        "X, y = mglearn.datasets.make_forge()\n",
        "\n",
        "X_train, X_test, y_train, y_test = train_test_split(X, y, random_state=0)"
      ],
      "metadata": {
        "colab": {
          "base_uri": "https://localhost:8080/"
        },
        "id": "mFK42qlhOn6E",
        "outputId": "36119351-38e7-4b12-98a8-b88e26013196"
      },
      "execution_count": 13,
      "outputs": [
        {
          "output_type": "stream",
          "name": "stderr",
          "text": [
            "/usr/local/lib/python3.7/dist-packages/sklearn/utils/deprecation.py:87: FutureWarning: Function make_blobs is deprecated; Please import make_blobs directly from scikit-learn\n",
            "  warnings.warn(msg, category=FutureWarning)\n"
          ]
        }
      ]
    },
    {
      "cell_type": "code",
      "source": [
        "# 모델 생성\n",
        "from sklearn.neighbors import KNeighborsClassifier\n",
        "clf = KNeighborsClassifier(n_neighbors=3)"
      ],
      "metadata": {
        "id": "liSF9OytOwLU"
      },
      "execution_count": 14,
      "outputs": []
    },
    {
      "cell_type": "code",
      "source": [
        "# 모델 학습\n",
        "clf.fit(X_train, y_train)"
      ],
      "metadata": {
        "colab": {
          "base_uri": "https://localhost:8080/"
        },
        "id": "iqctT8ddO5RI",
        "outputId": "94db2d43-0ff9-4010-f8af-1812429e03bc"
      },
      "execution_count": 15,
      "outputs": [
        {
          "output_type": "execute_result",
          "data": {
            "text/plain": [
              "KNeighborsClassifier(n_neighbors=3)"
            ]
          },
          "metadata": {},
          "execution_count": 15
        }
      ]
    },
    {
      "cell_type": "code",
      "source": [
        "# Test Set 예측\n",
        "print(f\"테스트 세트 예측: {clf.predict(X_test)}\")\n",
        "print(f\"테스트 세트 정확도: {clf.score(X_test, y_test): .2f}\")"
      ],
      "metadata": {
        "colab": {
          "base_uri": "https://localhost:8080/"
        },
        "id": "Tc0PujH5O_r_",
        "outputId": "61fb2ed1-55c0-416a-870a-fd9cc2428ec1"
      },
      "execution_count": 16,
      "outputs": [
        {
          "output_type": "stream",
          "name": "stdout",
          "text": [
            "테스트 세트 예측: [1 0 1 0 1 0 0]\n",
            "테스트 세트 정확도:  0.86\n"
          ]
        }
      ]
    },
    {
      "cell_type": "code",
      "source": [
        "fig, axes = plt.subplots(1, 3, figsize=(10, 3))\n",
        "\n",
        "for n_neighbors, ax in zip([1, 3, 9], axes):\n",
        "  # fit 메소드는 self 오브젝트를 리턴\n",
        "  # 그래서 객체 생성과 fit 메소드를 한 줄에 사용 가능\n",
        "  clf = KNeighborsClassifier(n_neighbors=n_neighbors).fit(X, y)\n",
        "  mglearn.plots.plot_2d_separator(clf, X, fill=True, eps=0.5, ax=ax, alpha=.4)\n",
        "  mglearn.discrete_scatter(X[:, 0], X[:, 1], y, ax=ax)\n",
        "  ax.set_title(f\"{n_neighbors} 이웃\")\n",
        "  ax.set_xlabel(\"특성 0\")\n",
        "  ax.set_ylabel(\"특성 1\")\n",
        "axes[0].legend(loc=3)"
      ],
      "metadata": {
        "colab": {
          "base_uri": "https://localhost:8080/",
          "height": 241
        },
        "id": "FdVjJYo5PJq0",
        "outputId": "71ff9109-514e-466f-ca32-cee7228b7f51"
      },
      "execution_count": 17,
      "outputs": [
        {
          "output_type": "execute_result",
          "data": {
            "text/plain": [
              "<matplotlib.legend.Legend at 0x7f4debaa3a90>"
            ]
          },
          "metadata": {},
          "execution_count": 17
        },
        {
          "output_type": "display_data",
          "data": {
            "text/plain": [
              "<Figure size 720x216 with 3 Axes>"
            ],
            "image/png": "[encoded data removed]"
          },
          "metadata": {}
        }
      ]
    },
    {
      "cell_type": "markdown",
      "source": [
        "### 유방암 Sample"
      ],
      "metadata": {
        "id": "jEwPH9H5QcvQ"
      }
    },
    {
      "cell_type": "code",
      "source": [
        "from sklearn.datasets import load_breast_cancer \n",
        "\n",
        "cancer = load_breast_cancer()\n",
        "X_train, X_test, y_train, y_test = train_test_split(\n",
        "    cancer.data, cancer.target, stratify=cancer.target, random_state=66)\n",
        "\n",
        "training_accuracies = list()\n",
        "test_accuracies = list()\n",
        "# 1에서 10 까지의 n_neighbors 를 적용\n",
        "neighbors_settings = range(1, 11)\n",
        "\n",
        "for n_neighbors in neighbors_settings:\n",
        "  # 모델 생성\n",
        "  clf = KNeighborsClassifier(n_neighbors=n_neighbors)\n",
        "  clf.fit(X_train, y_train)\n",
        "  # 훈련 셋 정확도 저장\n",
        "  training_accuracies.append(clf.score(X_train, y_train))\n",
        "  # 일반화 정확도 저장\n",
        "  test_accuracies.append(clf.score(X_test, y_test))\n",
        "  \n",
        "plt.plot(neighbors_settings, training_accuracies, label='훈련 정확도')\n",
        "plt.plot(neighbors_settings, test_accuracies, label='테스트 정확도')\n",
        "plt.ylabel('정확도')\n",
        "plt.xlabel('n_neighbors')\n",
        "plt.legend()"
      ],
      "metadata": {
        "colab": {
          "base_uri": "https://localhost:8080/",
          "height": 297
        },
        "id": "lwKcilgZP9m_",
        "outputId": "a1f1e5fc-c0c0-4973-e9ff-82420f0a8dbb"
      },
      "execution_count": 18,
      "outputs": [
        {
          "output_type": "execute_result",
          "data": {
            "text/plain": [
              "<matplotlib.legend.Legend at 0x7f4deb78fdd0>"
            ]
          },
          "metadata": {},
          "execution_count": 18
        },
        {
          "output_type": "display_data",
          "data": {
            "text/plain": [
              "<Figure size 432x288 with 1 Axes>"
            ],
            "image/png": "[encoded data removed]"
          },
          "metadata": {
            "needs_background": "light"
          }
        }
      ]
    },
    {
      "cell_type": "markdown",
      "source": [
        "### k-최근접 이웃 알고리즘 - 회귀"
      ],
      "metadata": {
        "id": "lnRpsDC4aJZG"
      }
    },
    {
      "cell_type": "code",
      "source": [
        "from sklearn.neighbors import KNeighborsRegressor \n",
        "\n",
        "X, y = mglearn.datasets.make_wave(n_samples=40)\n",
        "\n",
        "# wave 데이터셋을 훈련 세트와 테스트 세트로 분할\n",
        "X_train, X_test, y_train, y_test = train_test_split(X, y, random_state=0)\n",
        "\n",
        "# 이웃의 수를 3으로 하여 모델의 객체를 만든다.\n",
        "reg = KNeighborsRegressor(n_neighbors=3)\n",
        "reg.fit(X_train, y_train)"
      ],
      "metadata": {
        "colab": {
          "base_uri": "https://localhost:8080/"
        },
        "id": "8O2wUfw0Rg-F",
        "outputId": "4ed17800-a7f2-4030-c3be-bfcc6f7393a4"
      },
      "execution_count": 19,
      "outputs": [
        {
          "output_type": "execute_result",
          "data": {
            "text/plain": [
              "KNeighborsRegressor(n_neighbors=3)"
            ]
          },
          "metadata": {},
          "execution_count": 19
        }
      ]
    },
    {
      "cell_type": "code",
      "source": [
        "# 테스트 데이터 예측\n",
        "print(\"테스트 세트 예측: \")\n",
        "print(reg.predict(X_test))"
      ],
      "metadata": {
        "colab": {
          "base_uri": "https://localhost:8080/"
        },
        "id": "SDSFP47AaeS8",
        "outputId": "7181083d-f1de-4451-c1c3-ad107f6cee0c"
      },
      "execution_count": 20,
      "outputs": [
        {
          "output_type": "stream",
          "name": "stdout",
          "text": [
            "테스트 세트 예측: \n",
            "[-0.05396539  0.35686046  1.13671923 -1.89415682 -1.13881398 -1.63113382\n",
            "  0.35686046  0.91241374 -0.44680446 -1.13881398]\n"
          ]
        }
      ]
    },
    {
      "cell_type": "code",
      "source": [
        "print(f\"테스트 세트 R^2: {reg.score(X_test, y_test): .2f}\")"
      ],
      "metadata": {
        "colab": {
          "base_uri": "https://localhost:8080/"
        },
        "id": "r6HjdswlakxR",
        "outputId": "430ed64a-4699-4459-831b-fc8ef1c24047"
      },
      "execution_count": 21,
      "outputs": [
        {
          "output_type": "stream",
          "name": "stdout",
          "text": [
            "테스트 세트 R^2:  0.83\n"
          ]
        }
      ]
    },
    {
      "cell_type": "code",
      "source": [
        "fig, axes = plt.subplots(1, 3, figsize=(15, 4))\n",
        "# -3과 3 사이에 1000개의 데이터 포인트를 만든다\n",
        "line = np.linspace(-3, 3, 1000).reshape(-1, 1)\n",
        "for n_neighbors, ax in zip([1, 3, 9], axes):\n",
        "  # 1, 3, 9 이웃을 사용한 예측을 합니다\n",
        "  reg = KNeighborsRegressor(n_neighbors=n_neighbors, metric=\"euclidean\")\n",
        "  reg.fit(X_train, y_train)\n",
        "  ax.plot(line, reg.predict(line))\n",
        "  ax.plot(X_train, y_train, '^', c=mglearn.cm2(0), markersize=8)\n",
        "  ax.plot(X_test, y_test, 'v', c=mglearn.cm2(1), markersize=8)\n",
        "\n",
        "  ax.set_title(\n",
        "      f\"{n_neighbors} 이웃의 훈련 스코어: {reg.score(X_train, y_train): .2f}, \"\n",
        "      f\"테스트 스코어: {reg.score(X_test, y_test): .2f}\")\n",
        "  ax.set_xlabel(\"특성\")\n",
        "  ax.set_ylabel(\"타깃\")\n",
        "axes[0].legend([\"모델 예측\", \"훈련 데이터/타깃\", \"테스트 데이터/타깃\"], loc='bset')"
      ],
      "metadata": {
        "colab": {
          "base_uri": "https://localhost:8080/",
          "height": 0
        },
        "id": "Me0D7e_aa19k",
        "outputId": "296c1452-5192-4e87-e191-e31487d6da9d"
      },
      "execution_count": 22,
      "outputs": [
        {
          "output_type": "stream",
          "name": "stderr",
          "text": [
            "/usr/local/lib/python3.7/dist-packages/ipykernel_launcher.py:17: MatplotlibDeprecationWarning: Unrecognized location 'bset'. Falling back on 'best'; valid locations are\n",
            "\tbest\n",
            "\tupper right\n",
            "\tupper left\n",
            "\tlower left\n",
            "\tlower right\n",
            "\tright\n",
            "\tcenter left\n",
            "\tcenter right\n",
            "\tlower center\n",
            "\tupper center\n",
            "\tcenter\n",
            "This will raise an exception in 3.3.\n"
          ]
        },
        {
          "output_type": "execute_result",
          "data": {
            "text/plain": [
              "<matplotlib.legend.Legend at 0x7f4deb78fcd0>"
            ]
          },
          "metadata": {},
          "execution_count": 22
        },
        {
          "output_type": "stream",
          "name": "stderr",
          "text": [
            "/usr/local/lib/python3.7/dist-packages/matplotlib/backends/backend_agg.py:214: RuntimeWarning: Glyph 8722 missing from current font.\n",
            "  font.set_text(s, 0.0, flags=flags)\n",
            "/usr/local/lib/python3.7/dist-packages/matplotlib/backends/backend_agg.py:183: RuntimeWarning: Glyph 8722 missing from current font.\n",
            "  font.set_text(s, 0, flags=flags)\n"
          ]
        },
        {
          "output_type": "display_data",
          "data": {
            "text/plain": [
              "<Figure size 1080x288 with 3 Axes>"
            ],
            "image/png": "[encoded data removed]"
          },
          "metadata": {
            "needs_background": "light"
          }
        }
      ]
    },
    {
      "cell_type": "code",
      "source": [
        "fig, axes = plt.subplots(1, 3, figsize=(15, 4))\n",
        "# -3과 3 사이에 1000개의 데이터 포인트를 만든다\n",
        "line = np.linspace(-3, 3, 1000).reshape(-1, 1)\n",
        "for n_neighbors, ax in zip([1, 3, 9], axes):\n",
        "  # 1, 3, 9 이웃을 사용한 예측을 합니다\n",
        "  reg = KNeighborsRegressor(n_neighbors=n_neighbors)\n",
        "  reg.fit(X_train, y_train)\n",
        "  ax.plot(line, reg.predict(line))\n",
        "  ax.plot(X_train, y_train, '^', c=mglearn.cm2(0), markersize=8)\n",
        "  ax.plot(X_test, y_test, 'v', c=mglearn.cm2(1), markersize=8)\n",
        "\n",
        "  ax.set_title(\n",
        "      f\"{n_neighbors} 이웃의 훈련 스코어: {reg.score(X_train, y_train): .2f}, \"\n",
        "      f\"테스트 스코어: {reg.score(X_test, y_test): .2f}\")\n",
        "  ax.set_xlabel(\"특성\")\n",
        "  ax.set_ylabel(\"타깃\")\n",
        "axes[0].legend([\"모델 예측\", \"훈련 데이터/타깃\", \"테스트 데이터/타깃\"], loc='bset')"
      ],
      "metadata": {
        "colab": {
          "base_uri": "https://localhost:8080/",
          "height": 0
        },
        "id": "iJO8IYx4b3JR",
        "outputId": "d3f368bb-5b39-4aec-a78e-651bf6c7762b"
      },
      "execution_count": 23,
      "outputs": [
        {
          "output_type": "stream",
          "name": "stderr",
          "text": [
            "/usr/local/lib/python3.7/dist-packages/ipykernel_launcher.py:17: MatplotlibDeprecationWarning: Unrecognized location 'bset'. Falling back on 'best'; valid locations are\n",
            "\tbest\n",
            "\tupper right\n",
            "\tupper left\n",
            "\tlower left\n",
            "\tlower right\n",
            "\tright\n",
            "\tcenter left\n",
            "\tcenter right\n",
            "\tlower center\n",
            "\tupper center\n",
            "\tcenter\n",
            "This will raise an exception in 3.3.\n"
          ]
        },
        {
          "output_type": "execute_result",
          "data": {
            "text/plain": [
              "<matplotlib.legend.Legend at 0x7f4de8d91790>"
            ]
          },
          "metadata": {},
          "execution_count": 23
        },
        {
          "output_type": "stream",
          "name": "stderr",
          "text": [
            "/usr/local/lib/python3.7/dist-packages/matplotlib/backends/backend_agg.py:214: RuntimeWarning: Glyph 8722 missing from current font.\n",
            "  font.set_text(s, 0.0, flags=flags)\n",
            "/usr/local/lib/python3.7/dist-packages/matplotlib/backends/backend_agg.py:183: RuntimeWarning: Glyph 8722 missing from current font.\n",
            "  font.set_text(s, 0, flags=flags)\n"
          ]
        },
        {
          "output_type": "display_data",
          "data": {
            "text/plain": [
              "<Figure size 1080x288 with 3 Axes>"
            ],
            "image/png": "[encoded data removed]"
          },
          "metadata": {
            "needs_background": "light"
          }
        }
      ]
    },
    {
      "cell_type": "markdown",
      "source": [
        "# 선형회귀 (최소제곱법)"
      ],
      "metadata": {
        "id": "ybsJdDdyzINM"
      }
    },
    {
      "cell_type": "code",
      "source": [
        "from sklearn.linear_model import LinearRegression\n",
        "X, y = mglearn.datasets.make_wave(n_samples=60)\n",
        "X_train, X_test, y_train, y_test = train_test_split(X, y, random_state=42)\n",
        "\n",
        "lr = LinearRegression().fit(X_train, y_train)"
      ],
      "metadata": {
        "id": "R0t3AkdCdH33"
      },
      "execution_count": 24,
      "outputs": []
    },
    {
      "cell_type": "code",
      "source": [
        "# 기울기, 가중치(Weight), 계수(coeffcience)\n",
        "print(f\"lr.coef_: {lr.coef_}\")\n",
        "# 편향(offset), 절편(intercept)\n",
        "print(f\"lr.intercept_: {lr.intercept_}\")"
      ],
      "metadata": {
        "colab": {
          "base_uri": "https://localhost:8080/"
        },
        "id": "hxi2GDr4zaVE",
        "outputId": "32a5d761-7b49-4dbe-a28a-9b051473e5a8"
      },
      "execution_count": 25,
      "outputs": [
        {
          "output_type": "stream",
          "name": "stdout",
          "text": [
            "lr.coef_: [0.39390555]\n",
            "lr.intercept_: -0.031804343026759746\n"
          ]
        }
      ]
    },
    {
      "cell_type": "code",
      "source": [
        "print(f\"훈련 세트 점수: {lr.score(X_train,  y_train): .2f}\")\n",
        "print(f\"테스트 세트 점수: {lr.score(X_test,  y_test): .2f}\")"
      ],
      "metadata": {
        "colab": {
          "base_uri": "https://localhost:8080/"
        },
        "id": "lWJvxavBzizP",
        "outputId": "28b7e0e6-7f5a-4f4e-8ea3-951fd3016fa9"
      },
      "execution_count": 26,
      "outputs": [
        {
          "output_type": "stream",
          "name": "stdout",
          "text": [
            "훈련 세트 점수:  0.67\n",
            "테스트 세트 점수:  0.66\n"
          ]
        }
      ]
    },
    {
      "cell_type": "markdown",
      "source": [
        "#### 성능이 66~67점의 결과를 보이는 것은 좋은 상황은 아니다.\n",
        "#### 하지만 훈련 세트와 테스트 세트의 점수가 비슷 한 것을 알 수 있고,\n",
        "#### 이는 과소적합 상태인 것을 의미한다(데이터 부족)"
      ],
      "metadata": {
        "id": "c49nLxkX0UqK"
      }
    },
    {
      "cell_type": "markdown",
      "source": [
        "### 보스턴 주택가격 데이터셋"
      ],
      "metadata": {
        "id": "yB3Bv4HB0G7_"
      }
    },
    {
      "cell_type": "code",
      "source": [
        "X, y = mglearn.datasets.load_extended_boston()\n",
        "\n",
        "X_train, X_test, y_train, y_test = train_test_split(X, y, random_state=0)\n",
        "lr = LinearRegression().fit(X_train, y_train)"
      ],
      "metadata": {
        "colab": {
          "base_uri": "https://localhost:8080/"
        },
        "id": "YlaR5ZuFz9tU",
        "outputId": "b6e92185-5ef5-47e5-a083-b74acfc45749"
      },
      "execution_count": 27,
      "outputs": [
        {
          "output_type": "stream",
          "name": "stderr",
          "text": [
            "/usr/local/lib/python3.7/dist-packages/sklearn/utils/deprecation.py:87: FutureWarning: Function load_boston is deprecated; `load_boston` is deprecated in 1.0 and will be removed in 1.2.\n",
            "\n",
            "    The Boston housing prices dataset has an ethical problem. You can refer to\n",
            "    the documentation of this function for further details.\n",
            "\n",
            "    The scikit-learn maintainers therefore strongly discourage the use of this\n",
            "    dataset unless the purpose of the code is to study and educate about\n",
            "    ethical issues in data science and machine learning.\n",
            "\n",
            "    In this special case, you can fetch the dataset from the original\n",
            "    source::\n",
            "\n",
            "        import pandas as pd\n",
            "        import numpy as np\n",
            "\n",
            "\n",
            "        data_url = \"http://lib.stat.cmu.edu/datasets/boston\"\n",
            "        raw_df = pd.read_csv(data_url, sep=\"\\s+\", skiprows=22, header=None)\n",
            "        data = np.hstack([raw_df.values[::2, :], raw_df.values[1::2, :2]])\n",
            "        target = raw_df.values[1::2, 2]\n",
            "\n",
            "    Alternative datasets include the California housing dataset (i.e.\n",
            "    :func:`~sklearn.datasets.fetch_california_housing`) and the Ames housing\n",
            "    dataset. You can load the datasets as follows::\n",
            "\n",
            "        from sklearn.datasets import fetch_california_housing\n",
            "        housing = fetch_california_housing()\n",
            "\n",
            "    for the California housing dataset and::\n",
            "\n",
            "        from sklearn.datasets import fetch_openml\n",
            "        housing = fetch_openml(name=\"house_prices\", as_frame=True)\n",
            "\n",
            "    for the Ames housing dataset.\n",
            "    \n",
            "  warnings.warn(msg, category=FutureWarning)\n"
          ]
        }
      ]
    },
    {
      "cell_type": "code",
      "source": [
        "print(f\"훈련 세트 점수: {lr.score(X_train,  y_train): .2f}\")\n",
        "print(f\"테스트 세트 점수: {lr.score(X_test,  y_test): .2f}\")"
      ],
      "metadata": {
        "colab": {
          "base_uri": "https://localhost:8080/"
        },
        "id": "q3rSabSC0TJW",
        "outputId": "8e706af2-b99c-40e3-9247-79e438b4d9b1"
      },
      "execution_count": 28,
      "outputs": [
        {
          "output_type": "stream",
          "name": "stdout",
          "text": [
            "훈련 세트 점수:  0.95\n",
            "테스트 세트 점수:  0.61\n"
          ]
        }
      ]
    },
    {
      "cell_type": "markdown",
      "source": [
        "훈련 데이터와 테스트 데이터 사이의 성능 차이가 이렇게 심한 경우는..\n",
        "과대적합(학습데이터가 과한경우)으로 판단할 수 있다"
      ],
      "metadata": {
        "id": "raa3Qujb04LC"
      }
    },
    {
      "cell_type": "markdown",
      "source": [
        "# 리지(Ridge) 회귀\n",
        "리지(Ridge)도 회귀를 위한 선형 모델이므로 <u>최소적합법</u>에서 사용한 것과 같은 예측 함수를 사용한다.<br>\n",
        "하지만 리지 회귀에서의 가중치(w) 선택은 훈련 데이터를 잘 예측하기 위한 것 뿐만 아닌, <b><u>추가 제약 조건</u></b>을 만족시키기 위한 목적도 있다.<br>\n",
        "즉, 가중치의 모든 원소가 0에 가깝게 되도록 튜닝하는 모델이다.<br><br>\n",
        "\n",
        "직관적으로 생각한다면 이는 모든 특성이 출력에 주는 영향을 최소한으로 만든다<br>\n",
        "(이렇게 하면 뭐가 좋나?..)<br>\n",
        "이런 제약을 규제(regularzation)라고 정의한다.<br>\n",
        "규제란? 과대적합이 되지 않도록 모델을 강제로 제한한다는 의미이다.<br>\n",
        "리지 회귀에 사용하는 규제 방식은 L2 규제라고 한다.<br>\n",
        "(과대적합을 방지하기 위해 특성 -> 출력의 관계를 제한한다는 거구만..)\n"
      ],
      "metadata": {
        "id": "WlLJgt7-1JS2"
      }
    },
    {
      "cell_type": "markdown",
      "source": [
        "## 보스턴 데이터 셋\n",
        "<br>\n",
        "결과를 보니 LinearRegression보다 Traning Score는 0.06이 낮아졌지만<br>\n",
        "Test Score는 0.14가 높아졌으니 과대 적합이 해소가 된 것으로 확인이 되고..<br>\n",
        "사용자가 모델에서 신경써야 할 것은 Test Score이니 LinearRegression보다 Ridge 모델을 선택하는 것이 더 낫다고 판단된다."
      ],
      "metadata": {
        "id": "4hAc0r7W2mfw"
      }
    },
    {
      "cell_type": "code",
      "source": [
        "from sklearn.linear_model import Ridge\n",
        "ridge = Ridge().fit(X_train, y_train)\n",
        "\n",
        "print(f\"훈련 세트 점수: {ridge.score(X_train,  y_train): .2f}\")\n",
        "print(f\"테스트 세트 점수: {ridge.score(X_test,  y_test): .2f}\")"
      ],
      "metadata": {
        "colab": {
          "base_uri": "https://localhost:8080/"
        },
        "id": "ViXYDrJA02xQ",
        "outputId": "d95bae3b-30f3-474d-998b-fe62e8e9e29f"
      },
      "execution_count": 29,
      "outputs": [
        {
          "output_type": "stream",
          "name": "stdout",
          "text": [
            "훈련 세트 점수:  0.89\n",
            "테스트 세트 점수:  0.75\n"
          ]
        }
      ]
    },
    {
      "cell_type": "markdown",
      "source": [
        "Ridge 모델은 단순하게 (Weight를 0에 가깝게) 해주고 <br>\n",
        "Training <-> Test 성능 사이를 절충할 수 있는 방법을 제공한다. <br>\n",
        "\n",
        "사용자는 alpha 값을 변경하여 모델을 얼마나 단순하게 변경할 지 설정할 수 있다.<br>\n",
        "기본 값은 1.0 이며 값을 높이면 Training Score에는 부정적인 영향을 끼치지만 <br>\n",
        "일반화에는 도움이 되어 Test Score에 긍정적인 영향을 줄 수 있다"
      ],
      "metadata": {
        "id": "HxhysUkM3ZIG"
      }
    },
    {
      "cell_type": "markdown",
      "source": [
        "alpha:= 10 => ??? 오히려 내려감.."
      ],
      "metadata": {
        "id": "Iz4FUA464m3J"
      }
    },
    {
      "cell_type": "code",
      "source": [
        "ridge10 = Ridge(alpha=10).fit(X_train, y_train)\n",
        "\n",
        "print(f\"훈련 세트 점수: {ridge10.score(X_train,  y_train): .2f}\")\n",
        "print(f\"테스트 세트 점수: {ridge10.score(X_test,  y_test): .2f}\")"
      ],
      "metadata": {
        "colab": {
          "base_uri": "https://localhost:8080/"
        },
        "id": "vfKnmeY92rXL",
        "outputId": "8729390f-3f00-4101-c7d9-d3345cf1790c"
      },
      "execution_count": 30,
      "outputs": [
        {
          "output_type": "stream",
          "name": "stdout",
          "text": [
            "훈련 세트 점수:  0.79\n",
            "테스트 세트 점수:  0.64\n"
          ]
        }
      ]
    },
    {
      "cell_type": "markdown",
      "source": [
        "alpha:= 0.1 => 0.1이 최적의 alpha 값일 듯 하다."
      ],
      "metadata": {
        "id": "n_B__-Qs5V38"
      }
    },
    {
      "cell_type": "code",
      "source": [
        "ridge01 = Ridge(alpha=0.1).fit(X_train, y_train)\n",
        "\n",
        "print(f\"훈련 세트 점수: {ridge01.score(X_train,  y_train): .2f}\")\n",
        "print(f\"테스트 세트 점수: {ridge01.score(X_test,  y_test): .2f}\")"
      ],
      "metadata": {
        "colab": {
          "base_uri": "https://localhost:8080/"
        },
        "id": "ZMNG_tHj4jwp",
        "outputId": "b18acfe2-9135-47ab-9dd5-74fb8a3816df"
      },
      "execution_count": 31,
      "outputs": [
        {
          "output_type": "stream",
          "name": "stdout",
          "text": [
            "훈련 세트 점수:  0.93\n",
            "테스트 세트 점수:  0.77\n"
          ]
        }
      ]
    },
    {
      "cell_type": "markdown",
      "source": [
        "또한 alpha 값에 따라 모델의 coef_(Weight) 속성이 어떻게 달라지는지 확인해보자.<br> 아마 높은 alpha 값은 제약이 더 많은 모델이므로 복잡도가 증가하며 Weight가 작을 것이고,<br>\n",
        "낮은 alpha 값은 반대로 제약이 적은 모델이므로 상대적으로 복잡도가 낮아지며 Weight가 클 것이다"
      ],
      "metadata": {
        "id": "o74yjsro5mom"
      }
    },
    {
      "cell_type": "markdown",
      "source": [
        "alpha:\n",
        "- 높을 때: 규제의 강도를 높임\n",
        "- 낮을 때: 규제의 강도를 낮춤\n",
        "\n",
        "C:\n",
        "- 높을 때: 규제의 강도를 낮춤\n",
        "- 낮을 때: 규제의 강도를 높임\n",
        "\n",
        "규제:\n",
        "- 높을 때: 모델 복잡성이 낮아짐\n",
        "- 낮을 때: 모델 복잡성이 높아짐\n",
        "\n",
        "모델 복잡성:\n",
        "- 높을 때: 일반화가 비교적 잘 되어 Test Score가 높아짐, 계수가 커진다.\n",
        "- 낮을 때: 훈련 세트에 맞추어서 Training Score가 높아짐, 계수가 낮아진다.\n",
        "\n",
        "\n",
        "\n",
        "결론 !:\n",
        "\n",
        "- 규제의 강도가 높으면 이것 저것 제한하는게 많아 모델 복잡성이 낮아지고, 모델 복잡성이 낮아지다 보니 일반화가 비교적 잘 되어 Test Score가 높아지고, 계수가 커진다.\n",
        "\n",
        "\n",
        "- 규제의 강도가 낮으면 제한하는게 없어져 모델 복잡성이 높아지고, 모델 복잡성이 높아지다 보니 일반화가 잘 되지 않아 Training Set에 특화되어 Training Score가 높아지고, 계수가 낮아진다"
      ],
      "metadata": {
        "id": "HD1MO7eMo42v"
      }
    },
    {
      "cell_type": "markdown",
      "source": [
        ""
      ],
      "metadata": {
        "id": "1TmnYS1s74Xk"
      }
    },
    {
      "cell_type": "code",
      "source": [
        "plt.plot(ridge10.coef_, '^', label='Ridge alpha=10')\n",
        "plt.plot(ridge.coef_, 's', label='Ridge alpha=1')\n",
        "plt.plot(ridge01.coef_, 'v', label='Ridge alpha=0.1')\n",
        "\n",
        "plt.plot(lr.coef_, 'o', label='LinearRegression')\n",
        "plt.xlabel('Weight List')\n",
        "plt.ylabel('Weight Size')\n",
        "xlims = plt.xlim()\n",
        "plt.hlines(0, xlims[0], xlims[1])\n",
        "plt.xlim(xlims)\n",
        "plt.ylim(-25, 25)\n",
        "plt.legend()"
      ],
      "metadata": {
        "colab": {
          "base_uri": "https://localhost:8080/",
          "height": 390
        },
        "id": "R_rrdCwW5OW8",
        "outputId": "2de7b28a-8cda-40af-e4eb-ca93b3d02221"
      },
      "execution_count": 32,
      "outputs": [
        {
          "output_type": "execute_result",
          "data": {
            "text/plain": [
              "<matplotlib.legend.Legend at 0x7f4de8d8b550>"
            ]
          },
          "metadata": {},
          "execution_count": 32
        },
        {
          "output_type": "stream",
          "name": "stderr",
          "text": [
            "/usr/local/lib/python3.7/dist-packages/matplotlib/backends/backend_agg.py:214: RuntimeWarning: Glyph 8722 missing from current font.\n",
            "  font.set_text(s, 0.0, flags=flags)\n",
            "/usr/local/lib/python3.7/dist-packages/matplotlib/backends/backend_agg.py:183: RuntimeWarning: Glyph 8722 missing from current font.\n",
            "  font.set_text(s, 0, flags=flags)\n"
          ]
        },
        {
          "output_type": "display_data",
          "data": {
            "text/plain": [
              "<Figure size 432x288 with 1 Axes>"
            ],
            "image/png": "[encoded data removed]"
          },
          "metadata": {
            "needs_background": "light"
          }
        }
      ]
    },
    {
      "cell_type": "markdown",
      "source": [
        "\n",
        "\n",
        "> 계수 = Weight\n",
        "\n",
        "\n",
        "\n",
        "위 그림에서 x 축은 Weight의 원소를 위치대로 나열한 것이다.<br>\n",
        "즉 x=0은 첫 번째 특성에 연관된 계수이고, x=1은 두 번째 특성에 연관된 계수이다.<br><br>\n",
        "이런 식으로 x=100까지 나타나며, y축은 각 계수의 수치를 나타낸다.<br><br>\n",
        "alpha10은 대부분의 계수가 -3과 3 사이를 오가는데,\n",
        "alpha1과 0.1에서 점점 커지며<br>\n",
        "아무런 제약이 없는 LinearRegression 에는 급기야 그림 밖까지 나타나기 시작했다;; \n",
        "\n",
        "\n",
        "\n",
        "---\n",
        "\n",
        "\n",
        "\n",
        "\n",
        "\n"
      ],
      "metadata": {
        "id": "mTUp7bkA6Rc7"
      }
    },
    {
      "cell_type": "markdown",
      "source": [
        "규제의 효과를 이해하는 또 다른 좋은 방법은 alpha 값을 고정하고<br>\n",
        "훈련 데이터의 크기를 변화시켜 보는 것이다.<br><br>\n",
        "\n",
        "아래 그림은 보스턴 주택 가격 데이터 셋에서 여러 가지 크기로 Sampling 하여<br>\n",
        "LinearRegression과 Ridge(alpha=1)을 적용한 것이다.<br>\n",
        "(데이터셋의 크기에 따른 모델의 성능 변화를 나타낸 그래프를 학습 곡선이라고 한다.)"
      ],
      "metadata": {
        "id": "kkBpXkYF8BbR"
      }
    },
    {
      "cell_type": "code",
      "source": [
        "mglearn.plots.plot_ridge_n_samples()"
      ],
      "metadata": {
        "colab": {
          "base_uri": "https://localhost:8080/",
          "height": 1000
        },
        "id": "HoFyhEHW8bQ2",
        "outputId": "5e1b9186-4d81-4389-e823-a20e9dd4b298"
      },
      "execution_count": 33,
      "outputs": [
        {
          "output_type": "stream",
          "name": "stderr",
          "text": [
            "/usr/local/lib/python3.7/dist-packages/sklearn/utils/deprecation.py:87: FutureWarning: Function load_boston is deprecated; `load_boston` is deprecated in 1.0 and will be removed in 1.2.\n",
            "\n",
            "    The Boston housing prices dataset has an ethical problem. You can refer to\n",
            "    the documentation of this function for further details.\n",
            "\n",
            "    The scikit-learn maintainers therefore strongly discourage the use of this\n",
            "    dataset unless the purpose of the code is to study and educate about\n",
            "    ethical issues in data science and machine learning.\n",
            "\n",
            "    In this special case, you can fetch the dataset from the original\n",
            "    source::\n",
            "\n",
            "        import pandas as pd\n",
            "        import numpy as np\n",
            "\n",
            "\n",
            "        data_url = \"http://lib.stat.cmu.edu/datasets/boston\"\n",
            "        raw_df = pd.read_csv(data_url, sep=\"\\s+\", skiprows=22, header=None)\n",
            "        data = np.hstack([raw_df.values[::2, :], raw_df.values[1::2, :2]])\n",
            "        target = raw_df.values[1::2, 2]\n",
            "\n",
            "    Alternative datasets include the California housing dataset (i.e.\n",
            "    :func:`~sklearn.datasets.fetch_california_housing`) and the Ames housing\n",
            "    dataset. You can load the datasets as follows::\n",
            "\n",
            "        from sklearn.datasets import fetch_california_housing\n",
            "        housing = fetch_california_housing()\n",
            "\n",
            "    for the California housing dataset and::\n",
            "\n",
            "        from sklearn.datasets import fetch_openml\n",
            "        housing = fetch_openml(name=\"house_prices\", as_frame=True)\n",
            "\n",
            "    for the Ames housing dataset.\n",
            "    \n",
            "  warnings.warn(msg, category=FutureWarning)\n"
          ]
        },
        {
          "output_type": "display_data",
          "data": {
            "text/plain": [
              "<Figure size 432x288 with 1 Axes>"
            ],
            "image/png": "[encoded data removed]"
          },
          "metadata": {
            "needs_background": "light"
          }
        }
      ]
    },
    {
      "cell_type": "markdown",
      "source": [
        "예상대로 모든 데이터셋에 대해 Ridge와 LinearRegression 모두<br>\n",
        "Training Score가 Test Score보다 높다.<br><br>\n",
        "\n",
        "Ridge는 규제가 적용되므로 Training Score는 LinearRegression보다 낮으나,<br>\n",
        "Test Score의 경우 전반적으로 LinearRegression 모델보다 높은 것을 볼 수 있다.<br><br>\n",
        "\n",
        "여기서 주목해야 할 부분은 데이터를 충분히 학습하면 규제의 중요성이 덜 해져서<br>\n",
        "Ridge나 LinearRegression이나 Test Score가 비슷비슷 하다는거다,.(과소적합 해결)<br><br>\n",
        "\n",
        "또 하나 눈여겨 보아야 할 것은 선형회귀의 Training Score가 점점 감소한다는 점이다.<br>\n",
        "이건 훈련 데이터가 많으면 많을 수록 모델이 데이터를 기억하기 어려워서 그렇다고 한다<br>\n",
        "(뭐,, Test Score가 급상승 한 것을보면 별로 와닿진 않는다 !!)"
      ],
      "metadata": {
        "id": "uXpaxuXp8yFi"
      }
    },
    {
      "cell_type": "code",
      "source": [
        ""
      ],
      "metadata": {
        "id": "7XpVLgJO8YXg"
      },
      "execution_count": 33,
      "outputs": []
    },
    {
      "cell_type": "code",
      "source": [
        ""
      ],
      "metadata": {
        "id": "lA4n8U4V8AIr"
      },
      "execution_count": 33,
      "outputs": []
    },
    {
      "cell_type": "markdown",
      "source": [
        "# 라소(Lasso)\n",
        "\n",
        "\n",
        "---\n",
        "\n",
        "LinearRegression에 규제를 적용하는데 Ridge의 대안으로 Lasso가 있다.<br>\n",
        "Ridge와 같이 Lasso도 계수를 0에 가깝게 만들려고 하는 성질(?)이 있다.<br>\n",
        "하지만 방식이 조금 다르며 이를 L1 규제(Ridge 는 L2 규제)라고 한다.<br>\n",
        "L1 규제를 사용할 때 어떤 계수는 정말 0이 되기도 한다.(Ridge는 안그랬어?!)<br>\n",
        "이 말은 모델에서 완전히 제외되는 Feature가 있다는 말이다 !!(아하!)<br><br>"
      ],
      "metadata": {
        "id": "YT9N3LLZ8YdF"
      }
    },
    {
      "cell_type": "markdown",
      "source": [
        "## Lasso - 보스턴 주택가격 세트\n",
        "\n",
        "확장된 보스턴 주택 가격 데이터셋에 라소를 적용해보자"
      ],
      "metadata": {
        "id": "3vGW4shq9qZ1"
      }
    },
    {
      "cell_type": "code",
      "source": [
        "from sklearn.linear_model import Lasso\n",
        "\n",
        "lasso = Lasso().fit(X_train, y_train)\n",
        "print(f\"훈련 세트 점수: {lasso.score(X_train,  y_train): .2f}\")\n",
        "print(f\"테스트 세트 점수: {lasso.score(X_test,  y_test): .2f}\")\n",
        "print(f\"사용한 특성의 개수: {np.sum(lasso.coef_ != 0)}\")"
      ],
      "metadata": {
        "id": "S4lJALfP6MAL",
        "colab": {
          "base_uri": "https://localhost:8080/"
        },
        "outputId": "f71f3e47-4cec-4298-b2d4-298de1cb67b5"
      },
      "execution_count": 34,
      "outputs": [
        {
          "output_type": "stream",
          "name": "stdout",
          "text": [
            "훈련 세트 점수:  0.29\n",
            "테스트 세트 점수:  0.21\n",
            "사용한 특성의 개수: 4\n"
          ]
        }
      ]
    },
    {
      "cell_type": "markdown",
      "source": [
        "결과에서 볼 수 있듯이 훈련과, 예측 성능이 둘 다 좋지 않다.(underfitting)><br>\n",
        "104개의 특성중 4개만 사용한 것을 볼 수 있다!!<br>\n"
      ],
      "metadata": {
        "id": "GGCKxGEjAKA4"
      }
    },
    {
      "cell_type": "markdown",
      "source": [
        "underfitting을 줄이기 위해서 alpha 값을 줄여보겠다.<br>\n",
        "이렇게 하려면 max_iter(반복 실행하는 최대 횟수)의 기본값을 늘려야 한다."
      ],
      "metadata": {
        "id": "TD789APtBgoK"
      }
    },
    {
      "cell_type": "code",
      "source": [
        "lasso001 = Lasso(alpha=0.01, max_iter=50000).fit(X_train, y_train)\n",
        "print(f\"훈련 세트 점수: {lasso001.score(X_train,  y_train): .2f}\")\n",
        "print(f\"테스트 세트 점수: {lasso001.score(X_test,  y_test): .2f}\")\n",
        "print(f\"사용한 특성의 개수: {np.sum(lasso001.coef_ != 0)}\")"
      ],
      "metadata": {
        "colab": {
          "base_uri": "https://localhost:8080/"
        },
        "id": "eCCaJBfn-Bho",
        "outputId": "c84998f4-b7fc-49aa-b725-bfa1d52b3750"
      },
      "execution_count": 35,
      "outputs": [
        {
          "output_type": "stream",
          "name": "stdout",
          "text": [
            "훈련 세트 점수:  0.90\n",
            "테스트 세트 점수:  0.77\n",
            "사용한 특성의 개수: 33\n"
          ]
        }
      ]
    },
    {
      "cell_type": "markdown",
      "source": [
        "단.. Alpha 값을 너무 낮추면 규제의 효과가 없어져(모델이 너무 복잡해져),<br>\n",
        "overfitting이 되므로 LinearRegression과 결과가 비슷해진다"
      ],
      "metadata": {
        "id": "El6pTqs9B8mc"
      }
    },
    {
      "cell_type": "code",
      "source": [
        "lasso00001 = Lasso(alpha=0.0001, max_iter=50000).fit(X_train, y_train)\n",
        "print(f\"훈련 세트 점수: {lasso00001.score(X_train,  y_train): .2f}\")\n",
        "print(f\"테스트 세트 점수: {lasso00001.score(X_test,  y_test): .2f}\")\n",
        "print(f\"사용한 특성의 개수: {np.sum(lasso00001.coef_ != 0)}\")"
      ],
      "metadata": {
        "colab": {
          "base_uri": "https://localhost:8080/"
        },
        "id": "pBsyUSvvBwQz",
        "outputId": "88458427-560b-4abf-c081-af0fbb9b06af"
      },
      "execution_count": 36,
      "outputs": [
        {
          "output_type": "stream",
          "name": "stdout",
          "text": [
            "훈련 세트 점수:  0.95\n",
            "테스트 세트 점수:  0.64\n",
            "사용한 특성의 개수: 96\n"
          ]
        }
      ]
    },
    {
      "cell_type": "code",
      "source": [
        "plt.plot(lasso.coef_, 's', label='Lasso alpha=1')\n",
        "plt.plot(lasso001.coef_, '^', label='Lasso alpha=0.01')\n",
        "plt.plot(lasso00001.coef_, 'v', label='Lasso alpha=0.0001')\n",
        "\n",
        "plt.plot(ridge01.coef_, 'o', label='Ridge alpha=0.1')\n",
        "plt.legend(ncol=2, loc=(0, 1.05))\n",
        "plt.ylim(-25, 25)\n",
        "plt.xlabel('계수 목록')\n",
        "plt.ylabel('계수 크기')"
      ],
      "metadata": {
        "colab": {
          "base_uri": "https://localhost:8080/",
          "height": 434
        },
        "id": "VvsuHRD9CHiJ",
        "outputId": "d578100a-2ee6-4b21-833b-b7ca84e74f45"
      },
      "execution_count": 37,
      "outputs": [
        {
          "output_type": "execute_result",
          "data": {
            "text/plain": [
              "Text(0, 0.5, '계수 크기')"
            ]
          },
          "metadata": {},
          "execution_count": 37
        },
        {
          "output_type": "stream",
          "name": "stderr",
          "text": [
            "/usr/local/lib/python3.7/dist-packages/matplotlib/backends/backend_agg.py:214: RuntimeWarning: Glyph 8722 missing from current font.\n",
            "  font.set_text(s, 0.0, flags=flags)\n",
            "/usr/local/lib/python3.7/dist-packages/matplotlib/backends/backend_agg.py:183: RuntimeWarning: Glyph 8722 missing from current font.\n",
            "  font.set_text(s, 0, flags=flags)\n"
          ]
        },
        {
          "output_type": "display_data",
          "data": {
            "text/plain": [
              "<Figure size 432x288 with 1 Axes>"
            ],
            "image/png": "[encoded data removed]"
          },
          "metadata": {
            "needs_background": "light"
          }
        }
      ]
    },
    {
      "cell_type": "markdown",
      "source": [
        "# 분류용 선형 모델\n",
        "\n",
        "\n",
        "\n",
        "---\n",
        "\n",
        "분류형 선형 모델에서는 <u><b>결정 경계</b></u>가 입력의 선형 함수이다.<br>\n",
        "다른 말로하면 (이진) 선형 분류기는 선, 평면, 초평면을 사용해 2개의 클래스를 구분하는 분류기이다.<br>\n",
        "<br>\n",
        "선형 모델을 학습시키는 알고리즘은 다양한데, 다음의 두 방법으로 구분이 가능하다.<br>\n",
        "\n",
        "*   특정 계수와 절편의 조합이 훈련 데이터에 얼마나 잘 맞는지 측정하는 방법\n",
        "*   사용할 수 있는 규제가 있는지, 있다면 어떤 방식인지\n",
        "<br><br>\n",
        "\n",
        "가장 널리 알려준 2개의 선형 분류 알고리즘은<br>\n",
        "로지스틱 회귀(Logistic Regression)<br>\n",
        "서포트 벡터 머신(Support Vector Machine) 이다.<br>\n",
        "<br>\n",
        "\n",
        "\n",
        "\n"
      ],
      "metadata": {
        "id": "f0ZneHz3dygT"
      }
    },
    {
      "cell_type": "code",
      "source": [
        "from sklearn.linear_model import LogisticRegression\n",
        "from sklearn.svm import LinearSVC\n",
        "\n",
        "X, y = mglearn.datasets.make_forge()\n",
        "\n",
        "fig, axes = plt.subplots(1, 2, figsize=(10, 3))\n",
        "\n",
        "for model, ax in zip([LinearSVC(max_iter=5000), LogisticRegression()], axes):\n",
        "  clf = model.fit(X, y)\n",
        "  mglearn.plots.plot_2d_separator(clf, X, fill=False, eps=0.5,\n",
        "                                  ax=ax, alpha=.7)\n",
        "  mglearn.discrete_scatter(X[:, 0], X[:, 1], y, ax=ax)\n",
        "  ax.set_title(clf.__class__.__name__)\n",
        "  ax.set_xlabel(\"특성 0\")\n",
        "  ax.set_ylabel(\"특성 1\")\n",
        "axes[0].legend()"
      ],
      "metadata": {
        "id": "0M_o7KUECiPb",
        "colab": {
          "base_uri": "https://localhost:8080/",
          "height": 298
        },
        "outputId": "06e3d04b-e9df-40f0-88c7-0a087c36e437"
      },
      "execution_count": 51,
      "outputs": [
        {
          "output_type": "stream",
          "name": "stderr",
          "text": [
            "/usr/local/lib/python3.7/dist-packages/sklearn/utils/deprecation.py:87: FutureWarning: Function make_blobs is deprecated; Please import make_blobs directly from scikit-learn\n",
            "  warnings.warn(msg, category=FutureWarning)\n"
          ]
        },
        {
          "output_type": "execute_result",
          "data": {
            "text/plain": [
              "<matplotlib.legend.Legend at 0x7f4de7739210>"
            ]
          },
          "metadata": {},
          "execution_count": 51
        },
        {
          "output_type": "display_data",
          "data": {
            "text/plain": [
              "<Figure size 720x216 with 2 Axes>"
            ],
            "image/png": "[encoded data removed]"
          },
          "metadata": {}
        }
      ]
    },
    {
      "cell_type": "markdown",
      "source": [
        "두 모델 다 직선이 하나 그어져 있는데 이를 <u><b>결정 경계</b></u> 라고 한다.<br>\n",
        "\n",
        "결정 경계를 기준으로 위를 클래스1, 아래를 클래스2 라고 가정했을 때 두 모델 다 잘못 분류가 된 포인트 2개를 발견할 수 있다.\n",
        "<br>\n",
        "\n",
        "회귀에서 본 Ridge와 마찬가지로 이 두 모델은 기본적으로 L2 규제를 사용한다.<br>\n",
        "\n",
        "LogisticRegression과 LinearSVC에서 규제의 강도를 결정하는 매개변수는 C라고 지칭한다.<br>\n",
        "\n",
        "C와 alpha는 반대다:<br>\n",
        "alpha의 값은 규제와 정비례이며,<br>\n",
        "C 값은 규제와 반비례이다\n",
        "<br>\n",
        "\n",
        "즉, C의 값을 낮추면(규제가 높아지면) 데이터 포인트 중 다수에 맞추려고 하는 반면,<br>\n",
        "C의 값을 높이면(규제가 낮아지면) 개개의 데이터 포인트를 정확히 분류하려고 노력할 것이다."
      ],
      "metadata": {
        "id": "2cIjiqsEjrn7"
      }
    },
    {
      "cell_type": "code",
      "source": [
        "mglearn.plots.plot_linear_svc_regularization()"
      ],
      "metadata": {
        "colab": {
          "base_uri": "https://localhost:8080/",
          "height": 267
        },
        "id": "6F-LgqfHjbVU",
        "outputId": "ec385594-94ef-41e2-b55d-5b8d191a5a18"
      },
      "execution_count": 52,
      "outputs": [
        {
          "output_type": "display_data",
          "data": {
            "text/plain": [
              "<Figure size 864x288 with 3 Axes>"
            ],
            "image/png": "[encoded data removed]"
          },
          "metadata": {}
        }
      ]
    },
    {
      "cell_type": "markdown",
      "source": [
        "C가 0.01일 때:\n",
        "- 규제가 강해짐\n",
        "- 결정 경계가 수평에 가까워짐(기울기가 0에 가까워짐)\n",
        "- 잘못 분류한 데이터 포인트는 2개\n",
        "\n",
        "<br>\n",
        "\n",
        "C가 10일 때:\n",
        "- 잘못 분류한 두 샘플에 민감해져 결정 경계가 기울어짐\n",
        "\n",
        "<br>\n",
        "\n",
        "C가 1000일 때:\n",
        "- 결정 경계가 많이 기울어짐\n",
        "- 클래스 0(아래쪽)의 모든 데이터를 올바르게 분류함\n",
        "- 클래스의 전체적인 배치를 잘 파악하지 못한 것.\n",
        "- Overfitting이 된 것으로 판단.\n",
        "\n",
        "<br>\n",
        "회귀와 비슷한 분류에서의 선형 모델은 낮은 차원의 데이터에서는,<br>\n",
        "결정 경계가 직선이거나 평면이어서 매우 제한적으로 보임.<br>\n",
        "<br>\n",
        "하지만, 고차원에서는 분류에 대한 선형 모델이 매우 강력해지며, 특성이 많아지면 Overfitting이 되지 않도록 하는 것이 중요해진다."
      ],
      "metadata": {
        "id": "0ehpvAy-tlJ3"
      }
    },
    {
      "cell_type": "markdown",
      "source": [
        "## 유방암 데이터셋"
      ],
      "metadata": {
        "id": "GVCLAUgyLLcH"
      }
    },
    {
      "cell_type": "code",
      "source": [
        "from sklearn.datasets import load_breast_cancer\n",
        "\n",
        "cancer = load_breast_cancer()\n",
        "\n",
        "X_train, X_test, y_train, y_test = train_test_split(\n",
        "    cancer.data, cancer.target, stratify=cancer.target, random_state=42)\n",
        "logreg = LogisticRegression(max_iter=5000).fit(X_train, y_train)\n",
        "\n",
        "print(f\"훈련 세트 점수: {logreg.score(X_train,  y_train): .2f}\")\n",
        "print(f\"테스트 세트 점수: {logreg.score(X_test,  y_test): .2f}\")"
      ],
      "metadata": {
        "colab": {
          "base_uri": "https://localhost:8080/"
        },
        "id": "nzDZDKTos0SZ",
        "outputId": "be7f9ed7-e1c9-4648-ad3a-2b1c1f47ef29"
      },
      "execution_count": 53,
      "outputs": [
        {
          "output_type": "stream",
          "name": "stdout",
          "text": [
            "훈련 세트 점수:  0.96\n",
            "테스트 세트 점수:  0.96\n"
          ]
        }
      ]
    },
    {
      "cell_type": "markdown",
      "source": [
        "기본값(C=1)으로 굉장한 성능을 낸다.<br>\n",
        "하지만 훈련 세트와 테스트 세트의 성능이 매우 비슷하므로,<br>\n",
        "underfitting 으로 판단이 된다 !<br>\n",
        "모델의 제약을 더 풀어주기 위해 C를 증가시켜보자 !"
      ],
      "metadata": {
        "id": "6086NilbNLUS"
      }
    },
    {
      "cell_type": "code",
      "source": [
        "logreg100 = LogisticRegression(C=100, max_iter=5000).fit(X_train, y_train)\n",
        "\n",
        "print(f\"훈련 세트 점수: {logreg100.score(X_train,  y_train): .2f}\")\n",
        "print(f\"테스트 세트 점수: {logreg100.score(X_test,  y_test): .2f}\")"
      ],
      "metadata": {
        "colab": {
          "base_uri": "https://localhost:8080/"
        },
        "id": "DBx_h0gAMJRw",
        "outputId": "c0d7d0dc-8fba-45f0-c011-3d1c458632f3"
      },
      "execution_count": 54,
      "outputs": [
        {
          "output_type": "stream",
          "name": "stdout",
          "text": [
            "훈련 세트 점수:  0.98\n",
            "테스트 세트 점수:  0.97\n"
          ]
        }
      ]
    },
    {
      "cell_type": "markdown",
      "source": [
        "C를 100으로 세팅해주니 훈련 성능과 테스트 성능이 증가한다.<br>\n",
        "이는 복잡도가 높은 모델일수록 성능이 좋음을 말해준다.<br>\n",
        "이번엔 규제를 더 강하게 하기 위해서 C를 0.01로 내려보겠다."
      ],
      "metadata": {
        "id": "Y55NeuicNnDS"
      }
    },
    {
      "cell_type": "code",
      "source": [
        "logreg001 = LogisticRegression(C=0.01, max_iter=5000).fit(X_train, y_train)\n",
        "\n",
        "print(f\"훈련 세트 점수: {logreg001.score(X_train,  y_train): .2f}\")\n",
        "print(f\"테스트 세트 점수: {logreg001.score(X_test,  y_test): .2f}\")"
      ],
      "metadata": {
        "colab": {
          "base_uri": "https://localhost:8080/"
        },
        "id": "IKv7krLzNgNm",
        "outputId": "6d45f913-6224-48d3-bcfd-94eb6d380f0c"
      },
      "execution_count": 55,
      "outputs": [
        {
          "output_type": "stream",
          "name": "stdout",
          "text": [
            "훈련 세트 점수:  0.95\n",
            "테스트 세트 점수:  0.95\n"
          ]
        }
      ]
    },
    {
      "cell_type": "markdown",
      "source": [
        "예상대로 이미 underfitting이 일어난 모델에서 왼쪽으로 더 이동하게 되므로,<br> 훈련 세트와 테스트 세트의 정확도는 기본 매개변수보다 낮아지게된다."
      ],
      "metadata": {
        "id": "UphBv6LYN7ZV"
      }
    },
    {
      "cell_type": "code",
      "source": [
        ""
      ],
      "metadata": {
        "id": "J-fSN7gmN4u1"
      },
      "execution_count": 55,
      "outputs": []
    },
    {
      "cell_type": "code",
      "source": [
        "plt.plot(logreg100.coef_.T, '^', label='Logistic Regression C=100')\n",
        "plt.plot(logreg.coef_.T, 'o', label='Logistic Regression C=1')\n",
        "plt.plot(logreg001.coef_.T, 'v', label='Logistic Regression C=0.01')\n",
        "\n",
        "plt.xticks(range(cancer.data.shape[1]), cancer.feature_names, rotation=90)\n",
        "\n",
        "xlims = plt.xlim()\n",
        "\n",
        "plt.hlines(0, xlims[0], xlims[1])\n",
        "plt.xlim(xlims)\n",
        "plt.ylim(-5, 5)\n",
        "plt.xlabel('특성')\n",
        "plt.ylabel('계수 크기')\n",
        "plt.legend()"
      ],
      "metadata": {
        "colab": {
          "base_uri": "https://localhost:8080/",
          "height": 488
        },
        "id": "JWG1EH-0OKGK",
        "outputId": "f2861366-5bc9-4a94-cdce-c6ce25f88339"
      },
      "execution_count": 56,
      "outputs": [
        {
          "output_type": "execute_result",
          "data": {
            "text/plain": [
              "<matplotlib.legend.Legend at 0x7f4debc11a90>"
            ]
          },
          "metadata": {},
          "execution_count": 56
        },
        {
          "output_type": "stream",
          "name": "stderr",
          "text": [
            "/usr/local/lib/python3.7/dist-packages/matplotlib/backends/backend_agg.py:214: RuntimeWarning: Glyph 8722 missing from current font.\n",
            "  font.set_text(s, 0.0, flags=flags)\n",
            "/usr/local/lib/python3.7/dist-packages/matplotlib/backends/backend_agg.py:183: RuntimeWarning: Glyph 8722 missing from current font.\n",
            "  font.set_text(s, 0, flags=flags)\n"
          ]
        },
        {
          "output_type": "display_data",
          "data": {
            "text/plain": [
              "<Figure size 432x288 with 1 Axes>"
            ],
            "image/png": "[encoded data removed]"
          },
          "metadata": {
            "needs_background": "light"
          }
        }
      ]
    },
    {
      "cell_type": "markdown",
      "source": [
        "더 이해하기 쉬운 모델을 원한다면 L1 규제를 사용하는 것이 좋다(나는 L1이나 L2나 둘 다 어렵지만..)"
      ],
      "metadata": {
        "id": "Vzvn_8dbQywv"
      }
    },
    {
      "cell_type": "code",
      "source": [
        "for C, marker in zip([0.01, 1, 100], ['o', '^', 'v']):\n",
        "  lr_l1 = LogisticRegression(solver='liblinear', C=C, penalty='l1', \n",
        "                             max_iter=1000).fit(X_train, y_train)\n",
        "  print(f\"C={C:.3f} 인 L1 규제 로지스틱 회귀의 훈련 정확도: {lr_l1.score(X_train, y_train)}\")\n",
        "  print(f\"C={C:.3f} 인 L1 규제 로지스틱 회귀의 테스트 정확도: {lr_l1.score(X_test, y_test)}\")\n",
        "  plt.plot(lr_l1.coef_.T, marker, label=\"C:{.3f}\")\n",
        "\n",
        "plt.xticks(range(cancer.data.shape[1]), cancer.feature_names, rotation=90)\n",
        "xlims = plt.xlim()\n",
        "plt.hlines(0, xlims[0], xlims[1])\n",
        "plt.xlim(xlims)\n",
        "plt.xlabel('특성')\n",
        "plt.ylabel('계수 크기')\n",
        "\n",
        "plt.ylim(-5, 5)\n",
        "plt.legend(loc=3)"
      ],
      "metadata": {
        "colab": {
          "base_uri": "https://localhost:8080/",
          "height": 598
        },
        "id": "7uS4bMYLOks6",
        "outputId": "9e5eabef-8c5e-4b33-df68-72a030af74f8"
      },
      "execution_count": 57,
      "outputs": [
        {
          "output_type": "stream",
          "name": "stdout",
          "text": [
            "C=0.010 인 L1 규제 로지스틱 회귀의 훈련 정확도: 0.9178403755868545\n",
            "C=0.010 인 L1 규제 로지스틱 회귀의 테스트 정확도: 0.9300699300699301\n",
            "C=1.000 인 L1 규제 로지스틱 회귀의 훈련 정확도: 0.960093896713615\n",
            "C=1.000 인 L1 규제 로지스틱 회귀의 테스트 정확도: 0.958041958041958\n",
            "C=100.000 인 L1 규제 로지스틱 회귀의 훈련 정확도: 0.9859154929577465\n",
            "C=100.000 인 L1 규제 로지스틱 회귀의 테스트 정확도: 0.9790209790209791\n"
          ]
        },
        {
          "output_type": "execute_result",
          "data": {
            "text/plain": [
              "<matplotlib.legend.Legend at 0x7f4de75c3e10>"
            ]
          },
          "metadata": {},
          "execution_count": 57
        },
        {
          "output_type": "stream",
          "name": "stderr",
          "text": [
            "/usr/local/lib/python3.7/dist-packages/matplotlib/backends/backend_agg.py:214: RuntimeWarning: Glyph 8722 missing from current font.\n",
            "  font.set_text(s, 0.0, flags=flags)\n",
            "/usr/local/lib/python3.7/dist-packages/matplotlib/backends/backend_agg.py:183: RuntimeWarning: Glyph 8722 missing from current font.\n",
            "  font.set_text(s, 0, flags=flags)\n"
          ]
        },
        {
          "output_type": "display_data",
          "data": {
            "text/plain": [
              "<Figure size 432x288 with 1 Axes>"
            ],
            "image/png": "[encoded data removed]"
          },
          "metadata": {
            "needs_background": "light"
          }
        }
      ]
    },
    {
      "cell_type": "markdown",
      "source": [
        "# 다중 클래스 분류용 선형 모델\n",
        "\n",
        "\n",
        "\n",
        "---\n",
        "\n",
        "LogisticRegression 을 제외하고 많은 선형 분류 모델은 태생적으로 이진 분류만을 지원한다.<br>\n",
        "즉 Multi Class를 지원하지 않는다!(0 아니면 1)<br>\n",
        "이진 분류 알고리즘을 다중 클래스 분류 알고리즘으로 확장하는 보편적인 기법은<br>\n",
        "일대다 (one-vs,-rest) 방법이다.<br>\n",
        "일대다 방법은 각 클래스를 다른 모든 클래스와 구분하도록 이진 분류 모델을 학습시킨다.<br>\n",
        "이는 결국 멀티 클래스에서 클래스의 수 만큼 이진 분류 모델을 만든다는 말이다.<br>\n",
        "예측할 때 이렇게 만들어진 모든 이진 분류기가 작동하여 가장 높은 점수를 내는 분류기의 클래스를 예측 값으로 선택한다.\n"
      ],
      "metadata": {
        "id": "3ERuxj-Bhq-F"
      }
    },
    {
      "cell_type": "markdown",
      "source": [
        "3 개의 클래스를 가진 간단한 데이터셋에 일대다 방식을 적용해보자.<br>\n",
        " 이 데이터셋은 2차원이며 각 클래스의 데이터는 정규분포(가우시안 분포)를 따릅니다."
      ],
      "metadata": {
        "id": "sezpTPMZmceM"
      }
    },
    {
      "cell_type": "code",
      "source": [
        ""
      ],
      "metadata": {
        "id": "CWlrJFV2mb_V"
      },
      "execution_count": null,
      "outputs": []
    },
    {
      "cell_type": "code",
      "source": [
        ""
      ],
      "metadata": {
        "id": "HvcP1TH9mcCc"
      },
      "execution_count": null,
      "outputs": []
    },
    {
      "cell_type": "code",
      "source": [
        "from sklearn.datasets import make_blobs\n",
        "\n",
        "X, y = make_blobs(random_state=42)\n",
        "mglearn.discrete_scatter(X[:, 0], X[:, 1], y)\n",
        "plt.xlabel(\"특성 0\")\n",
        "plt.ylabel(\"특성 1\")\n",
        "plt.legend(['클래스 0', '클래스 1', '클래스2'])"
      ],
      "metadata": {
        "colab": {
          "base_uri": "https://localhost:8080/",
          "height": 390
        },
        "id": "xqTP7SnQS68C",
        "outputId": "fa546e4c-e29a-413d-dba8-a366fcc31bc7"
      },
      "execution_count": 72,
      "outputs": [
        {
          "output_type": "execute_result",
          "data": {
            "text/plain": [
              "<matplotlib.legend.Legend at 0x7f4de70c5a50>"
            ]
          },
          "metadata": {},
          "execution_count": 72
        },
        {
          "output_type": "stream",
          "name": "stderr",
          "text": [
            "/usr/local/lib/python3.7/dist-packages/matplotlib/backends/backend_agg.py:214: RuntimeWarning: Glyph 8722 missing from current font.\n",
            "  font.set_text(s, 0.0, flags=flags)\n",
            "/usr/local/lib/python3.7/dist-packages/matplotlib/backends/backend_agg.py:183: RuntimeWarning: Glyph 8722 missing from current font.\n",
            "  font.set_text(s, 0, flags=flags)\n"
          ]
        },
        {
          "output_type": "display_data",
          "data": {
            "text/plain": [
              "<Figure size 432x288 with 1 Axes>"
            ],
            "image/png": "[encoded data removed]"
          },
          "metadata": {
            "needs_background": "light"
          }
        }
      ]
    },
    {
      "cell_type": "code",
      "source": [
        "linear_svm = LinearSVC(max_iter=5000).fit(X, y)\n",
        "print(f\"계수 배열의 크기: {linear_svm.coef_.shape}\")\n",
        "print(f\"절편 배열의 크기: {linear_svm.intercept_.shape}\")"
      ],
      "metadata": {
        "colab": {
          "base_uri": "https://localhost:8080/"
        },
        "id": "Ws7TGeFNmKzz",
        "outputId": "9e22b14f-c73f-449d-c8e3-e03a09476197"
      },
      "execution_count": 74,
      "outputs": [
        {
          "output_type": "stream",
          "name": "stdout",
          "text": [
            "계수 배열의 크기: (3, 2)\n",
            "절편 배열의 크기: (3,)\n"
          ]
        }
      ]
    },
    {
      "cell_type": "code",
      "source": [
        "mglearn.discrete_scatter(X[:, 0], X[:, 1], y)\n",
        "line = np.linspace(-15, 15)\n",
        "for coef, intercept, color in zip(linear_svm.coef_, linear_svm.intercept_,\n",
        "                               mglearn.cm3.colors):\n",
        "  plt.plot(line, -(line * coef[0] + intercept) / coef[1], c=color)\n",
        "plt.ylim(-10, 15)\n",
        "plt.xlim(-10, 8)\n",
        "plt.xlabel('특성 0')\n",
        "plt.ylabel('특성 1')\n",
        "plt.legend(['클래스 0', '클래스 1', '클래스 2', '클래스 0 경계', \n",
        "            '클래스 1 경계', '클래스 2 경계'], loc=(1.01, 0.3))"
      ],
      "metadata": {
        "colab": {
          "base_uri": "https://localhost:8080/",
          "height": 394
        },
        "id": "iCsuZ_yBnPa6",
        "outputId": "41c06c8c-56a4-4ced-bcf9-f8a2d5f8f9d7"
      },
      "execution_count": 75,
      "outputs": [
        {
          "output_type": "execute_result",
          "data": {
            "text/plain": [
              "<matplotlib.legend.Legend at 0x7f4de7182490>"
            ]
          },
          "metadata": {},
          "execution_count": 75
        },
        {
          "output_type": "stream",
          "name": "stderr",
          "text": [
            "/usr/local/lib/python3.7/dist-packages/matplotlib/backends/backend_agg.py:214: RuntimeWarning: Glyph 8722 missing from current font.\n",
            "  font.set_text(s, 0.0, flags=flags)\n",
            "/usr/local/lib/python3.7/dist-packages/matplotlib/backends/backend_agg.py:183: RuntimeWarning: Glyph 8722 missing from current font.\n",
            "  font.set_text(s, 0, flags=flags)\n"
          ]
        },
        {
          "output_type": "display_data",
          "data": {
            "text/plain": [
              "<Figure size 432x288 with 1 Axes>"
            ],
            "image/png": "[encoded data removed]"
          },
          "metadata": {
            "needs_background": "light"
          }
        }
      ]
    },
    {
      "cell_type": "code",
      "source": [
        "mglearn.plots.plot_2d_classification(linear_svm, X, fill=True, alpha=.7)\n",
        "mglearn.discrete_scatter(X[:, 0], X[:, 1], y)\n",
        "line = np.linspace(-15, 15)\n",
        "for coef, intercept, color in zip(linear_svm.coef_, linear_svm.intercept_,\n",
        "                               mglearn.cm3.colors):\n",
        "  plt.plot(line, -(line * coef[0] + intercept) / coef[1], c=color)\n",
        "plt.ylim(-10, 15)\n",
        "plt.xlim(-10, 8)\n",
        "plt.xlabel('특성 0')\n",
        "plt.ylabel('특성 1')\n",
        "plt.legend(['클래스 0', '클래스 1', '클래스 2', '클래스 0 경계', \n",
        "            '클래스 1 경계', '클래스 2 경계'], loc=(1.01, 0.3))"
      ],
      "metadata": {
        "colab": {
          "base_uri": "https://localhost:8080/",
          "height": 280
        },
        "id": "bCvjn4H9okJY",
        "outputId": "72604369-ab8a-463a-9a52-ce6104640f32"
      },
      "execution_count": 76,
      "outputs": [
        {
          "output_type": "execute_result",
          "data": {
            "text/plain": [
              "<matplotlib.legend.Legend at 0x7f4de6f33c50>"
            ]
          },
          "metadata": {},
          "execution_count": 76
        },
        {
          "output_type": "display_data",
          "data": {
            "text/plain": [
              "<Figure size 432x288 with 1 Axes>"
            ],
            "image/png": "[encoded data removed]"
          },
          "metadata": {}
        }
      ]
    },
    {
      "cell_type": "code",
      "source": [
        ""
      ],
      "metadata": {
        "id": "K6WrWz_mvO4n"
      },
      "execution_count": null,
      "outputs": []
    },
    {
      "cell_type": "markdown",
      "source": [
        "### 나이브 베이즈(Naive Bayes) 분류기\n",
        "\n",
        "---\n",
        "\n",
        "나이브 베이즈 분류기는 앞 절의 선형 모델과 매우 유사하다.<br>\n",
        "LogisticRegression이나 LinearSVC 같은 선형 분류기보다 훈련 속도가 빠른 편이나, 그 대신 일반화 성능은 조금 뒤떨어진다.<br>\n",
        "<br>\n",
        "\n",
        "나이브 베이즈 분류기가 효과적인 이유는 각 틍성을 개별로 취급해 파라미터를 학습하고,<br>각 특성에서 클래스 별 통계를 단순하게 취합하기 때문이다.<br>\n",
        "<br>\n",
        "\n",
        "나이브 베이즈 분류기 종류:<br>\n",
        "- GaussianNB: 연속적인 어떤 데이터에도 적용 가능\n",
        "- BernoulliNB: 이진 데이터, 각 클래스의 특성 중 0이 아닌 것이 몇 개인지 센다.\n",
        "- MultinomialNB: 카운트 데이터에 적용됨\n",
        "\n",
        "BernoulliNB, MultinnomialNB는 대부분 텍스트 데이터를 분류할 떄 사용한다.\n"
      ],
      "metadata": {
        "id": "vNj6bhir0HKa"
      }
    },
    {
      "cell_type": "markdown",
      "source": [
        "#### 베르누이 나이브 베이즈"
      ],
      "metadata": {
        "id": "-S4Eak212JM4"
      }
    },
    {
      "cell_type": "code",
      "source": [
        "X = np.array([[0, 1, 0, 1],\n",
        "              [1, 0, 1, 0],\n",
        "              [0, 1, 0, 1],\n",
        "              [1, 0, 1, 0]])\n",
        "y = np.array([0, 1, 0, 1])\n",
        "\n",
        "counts = {}\n",
        "for label in np.unique(y):\n",
        "  # 각 클래스에 대해 반복\n",
        "  # 각 특성마다 1 이 나타낸 횟수를 센다.\n",
        "  counts[label] = X[y == label].sum(axis=0)\n",
        "print(f\"특성 카운트: {counts}\")\n"
      ],
      "metadata": {
        "colab": {
          "base_uri": "https://localhost:8080/"
        },
        "id": "dTeHAvy20Jtj",
        "outputId": "d9aa2655-0e9e-43c6-96ff-5547fc77d735"
      },
      "execution_count": 77,
      "outputs": [
        {
          "output_type": "stream",
          "name": "stdout",
          "text": [
            "특성 카운트: {0: array([0, 2, 0, 2]), 1: array([2, 0, 2, 0])}\n"
          ]
        }
      ]
    },
    {
      "cell_type": "markdown",
      "source": [
        "베르누이NB는 각 클래스의 특성 중 0이 아닌 것이 몇 개인지 센다.<br>\n",
        "반면 멀티노미얼MB와 가우시안NB는 계산하는 통계 데이터의 종류가 조금 다르다.<br>\n",
        "MultinomialNB는 클래스별로 특성의 평균을 계산하고,<br>\n",
        "GaussianNB는 클래스별로 각 특성의 분산과 평균을 저장한다.<br>\n",
        "<br>\n",
        "\n",
        "예측할 땐 데이터 포인트를 클래스의 통계 값과 비교해서 가장 잘 맞는 클래스를 예측값으로 한다.<br>\n",
        "<br>\n",
        "\n",
        "MultinomialNB와 BernoulliNB의 예측 공식은 선형 모델과 형태가 같다.<br>\n",
        "그러나 나이브 베이즈 모델의 coef_는 기울기 w가 아니라 선형모델과는 의미가 다르다"
      ],
      "metadata": {
        "id": "940W80HR2oNo"
      }
    },
    {
      "cell_type": "markdown",
      "source": [
        "##### 장단점과 매개변수"
      ],
      "metadata": {
        "id": "k2BTmnVH3Tth"
      }
    },
    {
      "cell_type": "markdown",
      "source": [
        "MultinomialNB와 BernoulliNB는 모델의 복잡도를 조절하는 alpha 매개변수 하나를 가지고 있다.<br><br>\n",
        "\n",
        "alpha가 주어지면 알고리즘이 모든 특성에 양의 값을 가진 가상의 데이터를 alpha 개수만큼 추가한다.<br><br>\n",
        "\n",
        "이는 통계 데이터를 완만하게 만들어준다.<br>\n",
        "<br>\n",
        "\n",
        "alpha가 크면 더 완만해지고 모델의 복잡도는 낮아진다.<br>\n",
        "alpha에 따른 알고리즘 성능 변동은 비교적 크지 않아서, 선형 모델과 달리 alpha 값이 성능 향상에 크게 기여하지 않는다 !\n",
        "<br><br>\n",
        "\n",
        "GaussianNB는 대부분 매우 고차원인 데이터 셋을 사용하고, 다른 두 나이브 베이즈 모델은 텍스트 같은 희소한 데이터를 카운트하는데 사용한다."
      ],
      "metadata": {
        "id": "pWdha1es3bDV"
      }
    },
    {
      "cell_type": "code",
      "source": [
        ""
      ],
      "metadata": {
        "id": "OyWP7L0S2YX2"
      },
      "execution_count": null,
      "outputs": []
    }
  ]
}